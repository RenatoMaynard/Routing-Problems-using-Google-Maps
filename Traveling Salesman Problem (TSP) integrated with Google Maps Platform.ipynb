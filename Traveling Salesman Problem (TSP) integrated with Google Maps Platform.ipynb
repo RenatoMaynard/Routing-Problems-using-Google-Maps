{
 "cells": [
  {
   "cell_type": "markdown",
   "id": "ea794eb7",
   "metadata": {},
   "source": [
    "# Traveling Salesman Problem (TSP) integrated with Google Maps Platform"
   ]
  },
  {
   "cell_type": "markdown",
   "id": "453ca7f7",
   "metadata": {},
   "source": [
    "### Libraries"
   ]
  },
  {
   "cell_type": "code",
   "execution_count": 1,
   "id": "81970467",
   "metadata": {},
   "outputs": [],
   "source": [
    "import googlemaps\n",
    "import gurobipy as gp\n",
    "from gurobipy import GRB\n",
    "import folium\n",
    "from googlemaps.convert import decode_polyline"
   ]
  },
  {
   "cell_type": "markdown",
   "id": "8ff73217",
   "metadata": {},
   "source": [
    "### Create Matrix of Distances"
   ]
  },
  {
   "cell_type": "code",
   "execution_count": 2,
   "id": "3df18212",
   "metadata": {},
   "outputs": [],
   "source": [
    "def get_distance_matrix(addresses, api_key):\n",
    "    \"\"\"\n",
    "    Uses the Google Distance Matrix API to build a 2D list of driving\n",
    "    distances (in meters) between all pairs of addresses.\n",
    "    \"\"\"\n",
    "    gmaps = googlemaps.Client(key=api_key)\n",
    "\n",
    "    result = gmaps.distance_matrix(\n",
    "        origins=addresses,\n",
    "        destinations=addresses,\n",
    "        mode='driving',     # 'driving', 'walking', 'bicycling', or 'transit'\n",
    "        units='metric'\n",
    "    )\n",
    "    n = len(addresses)\n",
    "    dist_matrix = [[0.0]*n for _ in range(n)]\n",
    "\n",
    "    for i in range(n):\n",
    "        for j in range(n):\n",
    "            element = result['rows'][i]['elements'][j]\n",
    "            if element['status'] == 'OK':\n",
    "                # Here we pick up distance in meters\n",
    "                dist_matrix[i][j] = float(element['distance']['value'])\n",
    "            else:\n",
    "                dist_matrix[i][j] = float('inf')  # If no route is found\n",
    "    return dist_matrix"
   ]
  },
  {
   "cell_type": "markdown",
   "id": "cd3acaff",
   "metadata": {},
   "source": [
    "### TSP Model"
   ]
  },
  {
   "cell_type": "code",
   "execution_count": 3,
   "id": "d139f150",
   "metadata": {},
   "outputs": [],
   "source": [
    "def solve_tsp(dist_matrix):\n",
    "    \"\"\"\n",
    "    Solves TSP using Gurobi’s MTZ (Miller–Tucker–Zemlin) formulation.\n",
    "    Returns (route, obj_val) where:\n",
    "      - route is a list of nodes in the order of visitation\n",
    "      - obj_val is the total distance (meters)\n",
    "    \"\"\"\n",
    "    n = len(dist_matrix)\n",
    "    m = gp.Model(\"TSP\")\n",
    "\n",
    "    # x[i, j] = 1 if route goes from i to j\n",
    "    x = {}\n",
    "    for i in range(n):\n",
    "        for j in range(n):\n",
    "            if i != j:\n",
    "                x[(i, j)] = m.addVar(vtype=GRB.BINARY, name=f\"x_{i}_{j}\")\n",
    "            else:\n",
    "                # disallow i->i\n",
    "                x[(i, j)] = m.addVar(vtype=GRB.BINARY, lb=0, ub=0, name=f\"x_{i}_{j}_self\")\n",
    "\n",
    "    # u[i] for the MTZ constraints\n",
    "    u = {}\n",
    "    for i in range(n):\n",
    "        u[i] = m.addVar(lb=0, ub=n-1, vtype=GRB.CONTINUOUS, name=f\"u_{i}\")\n",
    "\n",
    "    m.update()\n",
    "\n",
    "    # Objective: minimize total distance\n",
    "    m.setObjective(\n",
    "        gp.quicksum(dist_matrix[i][j] * x[(i, j)] for i in range(n) for j in range(n)),\n",
    "        GRB.MINIMIZE\n",
    "    )\n",
    "\n",
    "    # Each location has exactly one incoming edge\n",
    "    for j in range(n):\n",
    "        m.addConstr(gp.quicksum(x[(i, j)] for i in range(n)) == 1, name=f\"in_{j}\")\n",
    "\n",
    "    # Each location has exactly one outgoing edge\n",
    "    for i in range(n):\n",
    "        m.addConstr(gp.quicksum(x[(i, j)] for j in range(n)) == 1, name=f\"out_{i}\")\n",
    "\n",
    "    # MTZ constraints to eliminate subtours\n",
    "    for i in range(1, n):\n",
    "        for j in range(1, n):\n",
    "            if i != j:\n",
    "                m.addConstr(u[i] - u[j] + n*x[(i, j)] <= n-1, name=f\"mtz_{i}_{j}\")\n",
    "\n",
    "    m.optimize()\n",
    "\n",
    "    if m.status == GRB.OPTIMAL:\n",
    "        obj_val = m.objVal\n",
    "        # Reconstruct route\n",
    "        route = [0]\n",
    "        visited = 1\n",
    "        current = 0\n",
    "        while visited < n:\n",
    "            for j in range(n):\n",
    "                if x[(current, j)].X > 0.5:\n",
    "                    route.append(j)\n",
    "                    current = j\n",
    "                    break\n",
    "            visited += 1\n",
    "        return route, obj_val\n",
    "    else:\n",
    "        print(\"No optimal solution found.\")\n",
    "        return None, None"
   ]
  },
  {
   "cell_type": "markdown",
   "id": "de42dd42",
   "metadata": {},
   "source": [
    "### Latitude/longitude"
   ]
  },
  {
   "cell_type": "code",
   "execution_count": 4,
   "id": "f50efbc8",
   "metadata": {},
   "outputs": [],
   "source": [
    "def geocode_addresses(addresses, api_key):\n",
    "    \"\"\"\n",
    "    Get latitude/longitude for each address using Google Geocoding API.\n",
    "    Returns list of (lat, lng) in the same order as 'addresses'.\n",
    "    \"\"\"\n",
    "    gmaps = googlemaps.Client(key=api_key)\n",
    "    coords = []\n",
    "    for addr in addresses:\n",
    "        result = gmaps.geocode(addr)\n",
    "        if result:\n",
    "            loc = result[0][\"geometry\"][\"location\"]\n",
    "            coords.append((loc[\"lat\"], loc[\"lng\"]))\n",
    "        else:\n",
    "            coords.append((0.0, 0.0))\n",
    "    return coords"
   ]
  },
  {
   "cell_type": "markdown",
   "id": "876f92d7",
   "metadata": {},
   "source": [
    "### Plot"
   ]
  },
  {
   "cell_type": "code",
   "execution_count": 5,
   "id": "187fef71",
   "metadata": {},
   "outputs": [],
   "source": [
    "def plot_route_on_map_with_directions(route, addresses, coords, api_key, output_html=\"tsp_route.html\"):\n",
    "    \"\"\"\n",
    "    Plot the TSP route as an actual road path by\n",
    "    calling Google Directions API for each pair of consecutive stops.\n",
    "    Saves the map to an HTML file for interactive viewing.\n",
    "    \"\"\"\n",
    "    gmaps = googlemaps.Client(key=api_key)\n",
    "\n",
    "    # Start map near the first location\n",
    "    start_lat, start_lng = coords[route[0]]\n",
    "    fmap = folium.Map(location=[start_lat, start_lng], zoom_start=13)\n",
    "\n",
    "    # Add markers in the visit order\n",
    "    for order, node_idx in enumerate(route):\n",
    "        lat, lng = coords[node_idx]\n",
    "        folium.Marker(\n",
    "            [lat, lng],\n",
    "            popup=f\"Stop {order+1}: {addresses[node_idx]}\",\n",
    "            icon=folium.Icon(color='blue', icon='info-sign')\n",
    "        ).add_to(fmap)\n",
    "\n",
    "    # Draw polylines via real road paths\n",
    "    for i in range(len(route) - 1):\n",
    "        origin_idx = route[i]\n",
    "        dest_idx = route[i+1]\n",
    "\n",
    "        origin_lat, origin_lng = coords[origin_idx]\n",
    "        dest_lat, dest_lng = coords[dest_idx]\n",
    "\n",
    "        # Query Directions API for the road path\n",
    "        directions_result = gmaps.directions(\n",
    "            (origin_lat, origin_lng),\n",
    "            (dest_lat, dest_lng),\n",
    "            mode=\"driving\"\n",
    "        )\n",
    "        if directions_result:\n",
    "            # Extract the overview polyline and decode\n",
    "            polyline_str = directions_result[0]['overview_polyline']['points']\n",
    "            polyline_points = decode_polyline(polyline_str)\n",
    "\n",
    "            folium.PolyLine(\n",
    "                locations=[(pt['lat'], pt['lng']) for pt in polyline_points],\n",
    "                color='red',\n",
    "                weight=3,\n",
    "                opacity=1\n",
    "            ).add_to(fmap)\n",
    "        else:\n",
    "            print(f\"No driving directions found from {addresses[origin_idx]} to {addresses[dest_idx]}.\")\n",
    "\n",
    "    fmap.save(output_html)\n",
    "    print(f\"Map with road paths saved to {output_html}.\")"
   ]
  },
  {
   "cell_type": "markdown",
   "id": "88deebbc",
   "metadata": {},
   "source": [
    "### Choose Locations"
   ]
  },
  {
   "cell_type": "code",
   "execution_count": 6,
   "id": "8223f51c",
   "metadata": {},
   "outputs": [],
   "source": [
    "# 8 locations around Midtown Atlanta, with starting point at Georgia Tech\n",
    "addresses = [\n",
    "    \"Georgia Tech, 225 North Ave NW, Atlanta, GA 30332\",\n",
    "    \"Fox Theatre, 660 Peachtree St NE, Atlanta, GA 30308\",\n",
    "    \"Atlanta Botanical Garden, 1345 Piedmont Ave NE, Atlanta, GA 30309\",\n",
    "    \"Ponce City Market, 675 Ponce De Leon Ave NE, Atlanta, GA 30308\",\n",
    "    \"Coca-Cola Headquarters, 1 Coca Cola Plz NW, Atlanta, GA 30313\",\n",
    "    \"Mercedes-Benz Stadium, 1 AMB Dr NW, Atlanta, GA 30313\",\n",
    "    \"Georgia Aquarium, 225 Baker St NW, Atlanta, GA 30313\",\n",
    "    \"World of Coca-Cola, 121 Baker St NW, Atlanta, GA 30313\"\n",
    "]"
   ]
  },
  {
   "cell_type": "markdown",
   "id": "8a718af7",
   "metadata": {},
   "source": [
    "### API Key"
   ]
  },
  {
   "cell_type": "code",
   "execution_count": 7,
   "id": "803e30de",
   "metadata": {},
   "outputs": [],
   "source": [
    "# Replace with your valid Google Cloud API key\n",
    "api_key = \"YOUR_API\""
   ]
  },
  {
   "cell_type": "markdown",
   "id": "f943d2ca",
   "metadata": {},
   "source": [
    "### Solve the Model"
   ]
  },
  {
   "cell_type": "code",
   "execution_count": 8,
   "id": "0123c05b",
   "metadata": {},
   "outputs": [
    {
     "name": "stdout",
     "output_type": "stream",
     "text": [
      "Set parameter Username\n",
      "Academic license - for non-commercial use only - expires 2026-03-13\n",
      "Gurobi Optimizer version 11.0.0 build v11.0.0rc2 (win64 - Windows 11+.0 (26100.2))\n",
      "\n",
      "CPU model: AMD Ryzen 7 4800H with Radeon Graphics, instruction set [SSE2|AVX|AVX2]\n",
      "Thread count: 8 physical cores, 16 logical processors, using up to 16 threads\n",
      "\n",
      "Optimize a model with 58 rows, 72 columns and 254 nonzeros\n",
      "Model fingerprint: 0xa6ecad86\n",
      "Variable types: 8 continuous, 64 integer (64 binary)\n",
      "Coefficient statistics:\n",
      "  Matrix range     [1e+00, 8e+00]\n",
      "  Objective range  [2e+02, 6e+03]\n",
      "  Bounds range     [1e+00, 7e+00]\n",
      "  RHS range        [1e+00, 7e+00]\n",
      "Found heuristic solution: objective 19745.000000\n",
      "Presolve removed 0 rows and 9 columns\n",
      "Presolve time: 0.00s\n",
      "Presolved: 58 rows, 63 columns, 448 nonzeros\n",
      "Variable types: 7 continuous, 56 integer (56 binary)\n",
      "\n",
      "Root relaxation: objective 1.219886e+04, 19 iterations, 0.00 seconds (0.00 work units)\n",
      "\n",
      "    Nodes    |    Current Node    |     Objective Bounds      |     Work\n",
      " Expl Unexpl |  Obj  Depth IntInf | Incumbent    BestBd   Gap | It/Node Time\n",
      "\n",
      "     0     0 12198.8571    0   12 19745.0000 12198.8571  38.2%     -    0s\n",
      "H    0     0                    19232.000000 12198.8571  36.6%     -    0s\n",
      "H    0     0                    15928.000000 12198.8571  23.4%     -    0s\n",
      "H    0     0                    14937.000000 12198.8571  18.3%     -    0s\n",
      "     0     0 12753.4286    0   18 14937.0000 12753.4286  14.6%     -    0s\n",
      "H    0     0                    14543.000000 13017.8286  10.5%     -    0s\n",
      "     0     0 13832.2857    0   17 14543.0000 13832.2857  4.89%     -    0s\n",
      "H    0     0                    14535.000000 13832.2857  4.83%     -    0s\n",
      "     0     0 13832.2857    0   17 14535.0000 13832.2857  4.83%     -    0s\n",
      "     0     0 13990.0000    0   17 14535.0000 13990.0000  3.75%     -    0s\n",
      "H    0     0                    14213.000000 13990.0000  1.57%     -    0s\n",
      "     0     0 14213.0000    0   10 14213.0000 14213.0000  0.00%     -    0s\n",
      "\n",
      "Cutting planes:\n",
      "  Gomory: 3\n",
      "  Cover: 1\n",
      "  Clique: 1\n",
      "  MIR: 4\n",
      "  RLT: 1\n",
      "\n",
      "Explored 1 nodes (72 simplex iterations) in 0.03 seconds (0.00 work units)\n",
      "Thread count was 16 (of 16 available processors)\n",
      "\n",
      "Solution count 7: 14213 14535 14543 ... 19745\n",
      "\n",
      "Optimal solution found (tolerance 1.00e-04)\n",
      "Best objective 1.421300000000e+04, best bound 1.421300000000e+04, gap 0.0000%\n",
      "Optimal TSP route (indices): [0, 4, 6, 5, 7, 1, 3, 2]\n",
      "Total distance (meters): 14213.0\n",
      "Map with road paths saved to tsp_route.html.\n",
      "Done. Open 'tsp_route.html' in a browser to see the interactive map with real roads.\n"
     ]
    }
   ],
   "source": [
    "# 1. Build TSP distance matrix\n",
    "dist_matrix = get_distance_matrix(addresses, api_key)\n",
    "\n",
    "# 2. Solve TSP\n",
    "route, obj_val = solve_tsp(dist_matrix)\n",
    "if route is None:\n",
    "    print(\"No feasible TSP route found.\")\n",
    "\n",
    "print(\"Optimal TSP route (indices):\", route)\n",
    "print(\"Total distance (meters):\", obj_val)\n",
    "\n",
    "# 3. Geocode to get lat/lng\n",
    "coords = geocode_addresses(addresses, api_key)\n",
    "\n",
    "# 4. Plot the route with real roads\n",
    "plot_route_on_map_with_directions(route, addresses, coords, api_key, output_html=\"tsp_route.html\")\n",
    "\n",
    "print(\"Done. Open 'tsp_route.html'.\")\n"
   ]
  }
 ],
 "metadata": {
  "kernelspec": {
   "display_name": "Python 3 (ipykernel)",
   "language": "python",
   "name": "python3"
  },
  "language_info": {
   "codemirror_mode": {
    "name": "ipython",
    "version": 3
   },
   "file_extension": ".py",
   "mimetype": "text/x-python",
   "name": "python",
   "nbconvert_exporter": "python",
   "pygments_lexer": "ipython3",
   "version": "3.11.5"
  }
 },
 "nbformat": 4,
 "nbformat_minor": 5
}
